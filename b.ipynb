{
 "cells": [
  {
   "cell_type": "code",
   "execution_count": 12,
   "metadata": {},
   "outputs": [],
   "source": [
    "import scipy.io as sio\n",
    "import numpy as np\n",
    "from sklearn.model_selection import train_test_split\n",
    "from sklearn.preprocessing import LabelEncoder\n",
    "from tensorflow.keras import layers, models\n",
    "from tensorflow.keras.utils import to_categorical"
   ]
  },
  {
   "cell_type": "code",
   "execution_count": 13,
   "metadata": {},
   "outputs": [],
   "source": [
    "# Load the .mat file\n",
    "mat = sio.loadmat('A01T.mat')"
   ]
  },
  {
   "cell_type": "code",
   "execution_count": 14,
   "metadata": {},
   "outputs": [],
   "source": [
    "\n",
    "# Explore the structure of 'data' (you may need to adjust according to the actual structure)\n",
    "eeg_data = mat['data'][0, 0]['X']  # EEG signals (trials, channels, samples)\n",
    "labels = mat['data'][0, 0]['y']    # Labels (class of each trial)"
   ]
  },
  {
   "cell_type": "code",
   "execution_count": 15,
   "metadata": {},
   "outputs": [],
   "source": [
    "# Preprocess EEG data\n",
    "# Assuming data is in (trials, channels, samples) format\n",
    "eeg_data = np.expand_dims(eeg_data, axis=-1)  # Add a dimension for channels if necessary"
   ]
  },
  {
   "cell_type": "code",
   "execution_count": null,
   "metadata": {},
   "outputs": [],
   "source": [
    "# Encode labels to categorical\n",
    "labels = labels.ravel()  # Flatten the label array if necessary\n",
    "\n",
    "print(f\"Labels shape: {labels.shape}\")\n",
    "print(f\"First few labels: {labels[:5]}\")  # Check if labels contain simple values"
   ]
  },
  {
   "cell_type": "code",
   "execution_count": null,
   "metadata": {},
   "outputs": [],
   "source": [
    "invalid_labels = [label for label in labels if len(label) == 0]\n",
    "if invalid_labels:\n",
    "    print(f\"Found {len(invalid_labels)} empty labels. Skipping these entries.\")\n",
    "    labels = [label for label in labels if len(label) > 0]"
   ]
  },
  {
   "cell_type": "code",
   "execution_count": null,
   "metadata": {},
   "outputs": [],
   "source": [
    "if isinstance(labels[0], np.ndarray):\n",
    "    labels = np.array([label[0] for label in labels])  # Extract simple values from arrays"
   ]
  },
  {
   "cell_type": "code",
   "execution_count": null,
   "metadata": {},
   "outputs": [],
   "source": [
    "encoder = LabelEncoder()\n",
    "labels = encoder.fit_transform(labels)\n",
    "labels = to_categorical(labels)"
   ]
  },
  {
   "cell_type": "code",
   "execution_count": null,
   "metadata": {},
   "outputs": [],
   "source": [
    "# Split the data into train and test sets\n",
    "X_train, X_test, y_train, y_test = train_test_split(eeg_data, labels, test_size=0.2, random_state=42)\n"
   ]
  },
  {
   "cell_type": "code",
   "execution_count": null,
   "metadata": {},
   "outputs": [],
   "source": [
    "# Define Multi-Scale CNN Model\n",
    "def build_multiscale_cnn(input_shape):\n",
    "    input_layer = layers.Input(shape=input_shape)\n",
    "\n",
    "    # Branch 1: Small scale\n",
    "    branch1 = layers.Conv2D(16, (1, 3), activation='relu', padding='same')(input_layer)\n",
    "    branch1 = layers.Conv2D(32, (1, 3), activation='relu', padding='same')(branch1)\n",
    "    branch1 = layers.MaxPooling2D((1, 2))(branch1)\n",
    "\n",
    "    # Branch 2: Medium scale\n",
    "    branch2 = layers.Conv2D(16, (1, 5), activation='relu', padding='same')(input_layer)\n",
    "    branch2 = layers.Conv2D(32, (1, 5), activation='relu', padding='same')(branch2)\n",
    "    branch2 = layers.MaxPooling2D((1, 2))(branch2)\n",
    "\n",
    "    # Branch 3: Large scale\n",
    "    branch3 = layers.Conv2D(16, (1, 7), activation='relu', padding='same')(input_layer)\n",
    "    branch3 = layers.Conv2D(32, (1, 7), activation='relu', padding='same')(branch3)\n",
    "    branch3 = layers.MaxPooling2D((1, 2))(branch3)\n",
    "\n",
    "    # Concatenate branches\n",
    "    merged = layers.concatenate([branch1, branch2, branch3], axis=-1)\n",
    "    merged = layers.Flatten()(merged)\n",
    "    \n",
    "    # Fully connected layers\n",
    "    fc = layers.Dense(64, activation='relu')(merged)\n",
    "    output = layers.Dense(labels.shape[1], activation='softmax')(fc)  # Adjust output shape based on the number of classes\n",
    "\n",
    "    model = models.Model(inputs=input_layer, outputs=output)\n",
    "    return model\n"
   ]
  },
  {
   "cell_type": "code",
   "execution_count": null,
   "metadata": {},
   "outputs": [],
   "source": [
    "\n",
    "# Model configuration\n",
    "input_shape = X_train.shape[1:]  # Shape of the input data (channels, samples, 1)\n",
    "model = build_multiscale_cnn(input_shape)\n",
    "model.compile(optimizer='adam', loss='categorical_crossentropy', metrics=['accuracy'])"
   ]
  },
  {
   "cell_type": "code",
   "execution_count": null,
   "metadata": {},
   "outputs": [],
   "source": [
    "# Train the model\n",
    "model.fit(X_train, y_train, validation_data=(X_test, y_test), epochs=20, batch_size=32)\n"
   ]
  },
  {
   "cell_type": "code",
   "execution_count": null,
   "metadata": {},
   "outputs": [],
   "source": [
    "# Evaluate the model\n",
    "loss, accuracy = model.evaluate(X_test, y_test)\n",
    "print(f'Test Accuracy: {accuracy:.4f}')"
   ]
  }
 ],
 "metadata": {
  "kernelspec": {
   "display_name": "Python 3",
   "language": "python",
   "name": "python3"
  },
  "language_info": {
   "codemirror_mode": {
    "name": "ipython",
    "version": 3
   },
   "file_extension": ".py",
   "mimetype": "text/x-python",
   "name": "python",
   "nbconvert_exporter": "python",
   "pygments_lexer": "ipython3",
   "version": "3.11.4"
  }
 },
 "nbformat": 4,
 "nbformat_minor": 2
}
